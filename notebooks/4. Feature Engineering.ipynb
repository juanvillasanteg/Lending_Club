{
 "cells": [
  {
   "cell_type": "markdown",
   "metadata": {},
   "source": [
    "# 4. Feature Engineering"
   ]
  },
  {
   "cell_type": "code",
   "execution_count": 1,
   "metadata": {},
   "outputs": [],
   "source": [
    "import pandas as pd\n",
    "import numpy as np\n",
    "import seaborn as sns\n",
    "import category_encoders as ce\n",
    "import matplotlib\n",
    "import matplotlib.pyplot as plt\n",
    "\n",
    "from sklearn.model_selection import train_test_split\n",
    "from sklearn.ensemble import RandomForestRegressor, RandomForestClassifier\n",
    "from sklearn.preprocessing import MinMaxScaler\n",
    "from sklearn.linear_model import Ridge, RidgeCV, Lasso, LassoCV\n",
    "from sklearn.preprocessing import LabelEncoder\n",
    "from sklearn.feature_selection import SelectFromModel\n",
    "\n",
    "pd.set_option('display.max_columns', None)"
   ]
  },
  {
   "cell_type": "code",
   "execution_count": 2,
   "metadata": {},
   "outputs": [],
   "source": [
    "cleandf = pd.read_csv('../data/loan_cleaned.csv', low_memory=False )"
   ]
  },
  {
   "cell_type": "markdown",
   "metadata": {},
   "source": [
    "## 4.1 Feature Parsing"
   ]
  },
  {
   "cell_type": "markdown",
   "metadata": {},
   "source": [
    "### 4.1.1 `home_ownership`"
   ]
  },
  {
   "cell_type": "markdown",
   "metadata": {},
   "source": [
    "It has three categories with very few records. We modified the column to include including ANY, OTHER NONE and MORTGAGE in a category called OTHER."
   ]
  },
  {
   "cell_type": "code",
   "execution_count": 3,
   "metadata": {},
   "outputs": [
    {
     "data": {
      "text/plain": [
       "array(['MORTGAGE', 'RENT', 'OWN', 'ANY', 'NONE', 'OTHER'], dtype=object)"
      ]
     },
     "execution_count": 3,
     "metadata": {},
     "output_type": "execute_result"
    }
   ],
   "source": [
    "cleandf['home_ownership'].unique()"
   ]
  },
  {
   "cell_type": "code",
   "execution_count": 4,
   "metadata": {},
   "outputs": [
    {
     "data": {
      "text/plain": [
       "MORTGAGE    622106\n",
       "RENT        518627\n",
       "OWN         137488\n",
       "ANY            262\n",
       "OTHER          180\n",
       "NONE            49\n",
       "Name: home_ownership, dtype: int64"
      ]
     },
     "execution_count": 4,
     "metadata": {},
     "output_type": "execute_result"
    }
   ],
   "source": [
    "cleandf['home_ownership'].value_counts()"
   ]
  },
  {
   "cell_type": "code",
   "execution_count": 5,
   "metadata": {},
   "outputs": [],
   "source": [
    "cleandf['home_ownership'] = cleandf['home_ownership'].map(lambda x: 'Rent' if x == 'RENT' else 'Own' if x=='OWN' else 'Other')"
   ]
  },
  {
   "cell_type": "markdown",
   "metadata": {},
   "source": [
    "### 4.1.2 `sub_grade`"
   ]
  },
  {
   "cell_type": "code",
   "execution_count": 6,
   "metadata": {},
   "outputs": [],
   "source": [
    "sub_grade_encoder = LabelEncoder()\n",
    "sub_grade_encoder = sub_grade_encoder.fit(cleandf['sub_grade'])\n",
    "\n",
    "cleandf['sub_grade'] = sub_grade_encoder.transform(cleandf['sub_grade'])"
   ]
  },
  {
   "cell_type": "markdown",
   "metadata": {},
   "source": [
    "### 4.1.3 `purpose`"
   ]
  },
  {
   "cell_type": "code",
   "execution_count": 7,
   "metadata": {},
   "outputs": [
    {
     "data": {
      "text/plain": [
       "debt_consolidation    744169\n",
       "credit_card           281806\n",
       "home_improvement       79766\n",
       "other                  74062\n",
       "major_purchase         27776\n",
       "medical                14842\n",
       "small_business         14158\n",
       "car                    14023\n",
       "moving                  9069\n",
       "vacation                8711\n",
       "house                   6707\n",
       "wedding                 2318\n",
       "renewable_energy         891\n",
       "educational              414\n",
       "Name: purpose, dtype: int64"
      ]
     },
     "execution_count": 7,
     "metadata": {},
     "output_type": "execute_result"
    }
   ],
   "source": [
    "cleandf['purpose'].value_counts()"
   ]
  },
  {
   "cell_type": "code",
   "execution_count": 8,
   "metadata": {},
   "outputs": [],
   "source": [
    "prueba= cleandf.copy()"
   ]
  },
  {
   "cell_type": "code",
   "execution_count": 9,
   "metadata": {},
   "outputs": [],
   "source": [
    "prueba['purpose'] = prueba['purpose'].map(lambda v: 'other' if v in ['wedding','renewable_energy','educational','other'] else v)"
   ]
  },
  {
   "cell_type": "code",
   "execution_count": 10,
   "metadata": {},
   "outputs": [
    {
     "data": {
      "text/plain": [
       "debt_consolidation    744169\n",
       "credit_card           281806\n",
       "home_improvement       79766\n",
       "other                  77685\n",
       "major_purchase         27776\n",
       "medical                14842\n",
       "small_business         14158\n",
       "car                    14023\n",
       "moving                  9069\n",
       "vacation                8711\n",
       "house                   6707\n",
       "Name: purpose, dtype: int64"
      ]
     },
     "execution_count": 10,
     "metadata": {},
     "output_type": "execute_result"
    }
   ],
   "source": [
    "prueba['purpose'].value_counts()"
   ]
  },
  {
   "cell_type": "markdown",
   "metadata": {},
   "source": [
    "### 4.1.4 `earliest_cr_line`"
   ]
  },
  {
   "cell_type": "code",
   "execution_count": 11,
   "metadata": {},
   "outputs": [
    {
     "data": {
      "text/plain": [
       "0    Jan-2012\n",
       "1    Jun-2009\n",
       "2    Feb-1999\n",
       "3    Dec-2003\n",
       "Name: earliest_cr_line, dtype: object"
      ]
     },
     "execution_count": 11,
     "metadata": {},
     "output_type": "execute_result"
    }
   ],
   "source": [
    "cleandf['earliest_cr_line'].head(4)"
   ]
  },
  {
   "cell_type": "code",
   "execution_count": 12,
   "metadata": {},
   "outputs": [],
   "source": [
    "cleandf['earliest_cr_line'] = cleandf['earliest_cr_line'].str.split(\"-\", n = 1, expand= True)[1]"
   ]
  },
  {
   "cell_type": "code",
   "execution_count": 13,
   "metadata": {},
   "outputs": [],
   "source": [
    "cleandf['earliest_cr_line'] = cleandf['earliest_cr_line'].astype('float64')"
   ]
  },
  {
   "cell_type": "code",
   "execution_count": 14,
   "metadata": {},
   "outputs": [
    {
     "data": {
      "text/plain": [
       "0    2012.0\n",
       "1    2009.0\n",
       "2    1999.0\n",
       "3    2003.0\n",
       "Name: earliest_cr_line, dtype: float64"
      ]
     },
     "execution_count": 14,
     "metadata": {},
     "output_type": "execute_result"
    }
   ],
   "source": [
    "cleandf['earliest_cr_line'].head(4)"
   ]
  },
  {
   "cell_type": "markdown",
   "metadata": {},
   "source": [
    "### 4.1.5 `emp_title`"
   ]
  },
  {
   "cell_type": "markdown",
   "metadata": {},
   "source": [
    "The columns with a lot of information with NAs We transform them into binaries, it gives us information and it doesn't give us information. We set a 1 when it doesn't give me information."
   ]
  },
  {
   "cell_type": "code",
   "execution_count": 15,
   "metadata": {},
   "outputs": [
    {
     "data": {
      "text/plain": [
       "82625"
      ]
     },
     "execution_count": 15,
     "metadata": {},
     "output_type": "execute_result"
    }
   ],
   "source": [
    "sum(cleandf['emp_title'].isna())"
   ]
  },
  {
   "cell_type": "code",
   "execution_count": 16,
   "metadata": {},
   "outputs": [],
   "source": [
    "cleandf[\"emp_title\"] = np.where(cleandf['emp_title'].isna(), 1, 0)"
   ]
  },
  {
   "cell_type": "markdown",
   "metadata": {},
   "source": [
    "### 4.1.6 `desc`"
   ]
  },
  {
   "cell_type": "code",
   "execution_count": 17,
   "metadata": {},
   "outputs": [
    {
     "data": {
      "text/plain": [
       "1155354"
      ]
     },
     "execution_count": 17,
     "metadata": {},
     "output_type": "execute_result"
    }
   ],
   "source": [
    "sum(cleandf['desc'].isna())"
   ]
  },
  {
   "cell_type": "code",
   "execution_count": 18,
   "metadata": {},
   "outputs": [],
   "source": [
    "cleandf[\"desc\"] = np.where(cleandf['desc'].isna(), 1, 0)"
   ]
  },
  {
   "cell_type": "markdown",
   "metadata": {},
   "source": [
    "## 4.2 Mean encoding"
   ]
  },
  {
   "cell_type": "markdown",
   "metadata": {},
   "source": [
    "To convert categorical variables into numerical ones, facilitating the construction of a predictive model we use\n",
    "the mean coding, a method which use the objective variable as the basie for generating the new encoded variable."
   ]
  },
  {
   "cell_type": "markdown",
   "metadata": {},
   "source": [
    "We will apply mean encoding on the following variables:\n",
    "\n",
    "1. addr_state\n",
    "2. emp_length\n",
    "3. purpose"
   ]
  },
  {
   "cell_type": "code",
   "execution_count": 19,
   "metadata": {},
   "outputs": [],
   "source": [
    "encoder = ce.TargetEncoder(cols=['addr_state','emp_length', 'purpose'], smoothing=0, return_df=True)"
   ]
  },
  {
   "cell_type": "code",
   "execution_count": 20,
   "metadata": {},
   "outputs": [],
   "source": [
    "cleandf = encoder.fit_transform(cleandf, cleandf['target'])"
   ]
  },
  {
   "cell_type": "code",
   "execution_count": 21,
   "metadata": {},
   "outputs": [
    {
     "data": {
      "text/html": [
       "<div>\n",
       "<style scoped>\n",
       "    .dataframe tbody tr th:only-of-type {\n",
       "        vertical-align: middle;\n",
       "    }\n",
       "\n",
       "    .dataframe tbody tr th {\n",
       "        vertical-align: top;\n",
       "    }\n",
       "\n",
       "    .dataframe thead th {\n",
       "        text-align: right;\n",
       "    }\n",
       "</style>\n",
       "<table border=\"1\" class=\"dataframe\">\n",
       "  <thead>\n",
       "    <tr style=\"text-align: right;\">\n",
       "      <th></th>\n",
       "      <th>loan_amnt</th>\n",
       "      <th>term</th>\n",
       "      <th>int_rate</th>\n",
       "      <th>sub_grade</th>\n",
       "      <th>emp_title</th>\n",
       "      <th>emp_length</th>\n",
       "      <th>home_ownership</th>\n",
       "      <th>annual_inc</th>\n",
       "      <th>verification_status</th>\n",
       "      <th>purpose</th>\n",
       "      <th>addr_state</th>\n",
       "      <th>dti</th>\n",
       "      <th>earliest_cr_line</th>\n",
       "      <th>inq_last_6mths</th>\n",
       "      <th>application_type</th>\n",
       "      <th>tot_cur_bal</th>\n",
       "      <th>total_rev_hi_lim</th>\n",
       "      <th>bc_util</th>\n",
       "      <th>mort_acc</th>\n",
       "      <th>pct_tl_nvr_dlq</th>\n",
       "      <th>pub_rec_bankruptcies</th>\n",
       "      <th>tax_liens</th>\n",
       "      <th>total_il_high_credit_limit</th>\n",
       "      <th>disbursement_method</th>\n",
       "      <th>target</th>\n",
       "      <th>desc</th>\n",
       "    </tr>\n",
       "  </thead>\n",
       "  <tbody>\n",
       "    <tr>\n",
       "      <td>0</td>\n",
       "      <td>30000</td>\n",
       "      <td>36 months</td>\n",
       "      <td>22.35</td>\n",
       "      <td>19</td>\n",
       "      <td>0</td>\n",
       "      <td>0.201709</td>\n",
       "      <td>Other</td>\n",
       "      <td>100000.0</td>\n",
       "      <td>Source Verified</td>\n",
       "      <td>0.216858</td>\n",
       "      <td>0.200895</td>\n",
       "      <td>30.46</td>\n",
       "      <td>2012.0</td>\n",
       "      <td>0.0</td>\n",
       "      <td>Joint App</td>\n",
       "      <td>472330.0</td>\n",
       "      <td>42200.0</td>\n",
       "      <td>46.9</td>\n",
       "      <td>1.0</td>\n",
       "      <td>89.5</td>\n",
       "      <td>1.0</td>\n",
       "      <td>0.0</td>\n",
       "      <td>101984.0</td>\n",
       "      <td>Cash</td>\n",
       "      <td>0</td>\n",
       "      <td>1</td>\n",
       "    </tr>\n",
       "    <tr>\n",
       "      <td>1</td>\n",
       "      <td>40000</td>\n",
       "      <td>60 months</td>\n",
       "      <td>16.14</td>\n",
       "      <td>13</td>\n",
       "      <td>0</td>\n",
       "      <td>0.212752</td>\n",
       "      <td>Other</td>\n",
       "      <td>45000.0</td>\n",
       "      <td>Verified</td>\n",
       "      <td>0.177509</td>\n",
       "      <td>0.208085</td>\n",
       "      <td>50.53</td>\n",
       "      <td>2009.0</td>\n",
       "      <td>0.0</td>\n",
       "      <td>Joint App</td>\n",
       "      <td>271068.0</td>\n",
       "      <td>54200.0</td>\n",
       "      <td>67.3</td>\n",
       "      <td>1.0</td>\n",
       "      <td>100.0</td>\n",
       "      <td>0.0</td>\n",
       "      <td>0.0</td>\n",
       "      <td>167965.0</td>\n",
       "      <td>Cash</td>\n",
       "      <td>0</td>\n",
       "      <td>1</td>\n",
       "    </tr>\n",
       "    <tr>\n",
       "      <td>2</td>\n",
       "      <td>20000</td>\n",
       "      <td>36 months</td>\n",
       "      <td>7.56</td>\n",
       "      <td>2</td>\n",
       "      <td>0</td>\n",
       "      <td>0.192322</td>\n",
       "      <td>Other</td>\n",
       "      <td>100000.0</td>\n",
       "      <td>Not Verified</td>\n",
       "      <td>0.177509</td>\n",
       "      <td>0.163918</td>\n",
       "      <td>18.92</td>\n",
       "      <td>1999.0</td>\n",
       "      <td>0.0</td>\n",
       "      <td>Joint App</td>\n",
       "      <td>515779.0</td>\n",
       "      <td>85100.0</td>\n",
       "      <td>29.9</td>\n",
       "      <td>5.0</td>\n",
       "      <td>94.7</td>\n",
       "      <td>0.0</td>\n",
       "      <td>0.0</td>\n",
       "      <td>74833.0</td>\n",
       "      <td>Cash</td>\n",
       "      <td>0</td>\n",
       "      <td>1</td>\n",
       "    </tr>\n",
       "    <tr>\n",
       "      <td>3</td>\n",
       "      <td>4500</td>\n",
       "      <td>36 months</td>\n",
       "      <td>11.31</td>\n",
       "      <td>7</td>\n",
       "      <td>0</td>\n",
       "      <td>0.192322</td>\n",
       "      <td>Rent</td>\n",
       "      <td>38500.0</td>\n",
       "      <td>Not Verified</td>\n",
       "      <td>0.177509</td>\n",
       "      <td>0.206006</td>\n",
       "      <td>4.64</td>\n",
       "      <td>2003.0</td>\n",
       "      <td>0.0</td>\n",
       "      <td>Individual</td>\n",
       "      <td>29137.0</td>\n",
       "      <td>29200.0</td>\n",
       "      <td>28.9</td>\n",
       "      <td>0.0</td>\n",
       "      <td>91.7</td>\n",
       "      <td>0.0</td>\n",
       "      <td>0.0</td>\n",
       "      <td>24595.0</td>\n",
       "      <td>Cash</td>\n",
       "      <td>0</td>\n",
       "      <td>1</td>\n",
       "    </tr>\n",
       "    <tr>\n",
       "      <td>4</td>\n",
       "      <td>20000</td>\n",
       "      <td>60 months</td>\n",
       "      <td>17.97</td>\n",
       "      <td>15</td>\n",
       "      <td>0</td>\n",
       "      <td>0.204835</td>\n",
       "      <td>Rent</td>\n",
       "      <td>57000.0</td>\n",
       "      <td>Not Verified</td>\n",
       "      <td>0.216858</td>\n",
       "      <td>0.163918</td>\n",
       "      <td>22.18</td>\n",
       "      <td>1995.0</td>\n",
       "      <td>0.0</td>\n",
       "      <td>Individual</td>\n",
       "      <td>33356.0</td>\n",
       "      <td>72700.0</td>\n",
       "      <td>50.4</td>\n",
       "      <td>1.0</td>\n",
       "      <td>100.0</td>\n",
       "      <td>0.0</td>\n",
       "      <td>0.0</td>\n",
       "      <td>0.0</td>\n",
       "      <td>Cash</td>\n",
       "      <td>0</td>\n",
       "      <td>1</td>\n",
       "    </tr>\n",
       "  </tbody>\n",
       "</table>\n",
       "</div>"
      ],
      "text/plain": [
       "   loan_amnt        term  int_rate  sub_grade  emp_title  emp_length  \\\n",
       "0      30000   36 months     22.35         19          0    0.201709   \n",
       "1      40000   60 months     16.14         13          0    0.212752   \n",
       "2      20000   36 months      7.56          2          0    0.192322   \n",
       "3       4500   36 months     11.31          7          0    0.192322   \n",
       "4      20000   60 months     17.97         15          0    0.204835   \n",
       "\n",
       "  home_ownership  annual_inc verification_status   purpose  addr_state    dti  \\\n",
       "0          Other    100000.0     Source Verified  0.216858    0.200895  30.46   \n",
       "1          Other     45000.0            Verified  0.177509    0.208085  50.53   \n",
       "2          Other    100000.0        Not Verified  0.177509    0.163918  18.92   \n",
       "3           Rent     38500.0        Not Verified  0.177509    0.206006   4.64   \n",
       "4           Rent     57000.0        Not Verified  0.216858    0.163918  22.18   \n",
       "\n",
       "   earliest_cr_line  inq_last_6mths application_type  tot_cur_bal  \\\n",
       "0            2012.0             0.0        Joint App     472330.0   \n",
       "1            2009.0             0.0        Joint App     271068.0   \n",
       "2            1999.0             0.0        Joint App     515779.0   \n",
       "3            2003.0             0.0       Individual      29137.0   \n",
       "4            1995.0             0.0       Individual      33356.0   \n",
       "\n",
       "   total_rev_hi_lim  bc_util  mort_acc  pct_tl_nvr_dlq  pub_rec_bankruptcies  \\\n",
       "0           42200.0     46.9       1.0            89.5                   1.0   \n",
       "1           54200.0     67.3       1.0           100.0                   0.0   \n",
       "2           85100.0     29.9       5.0            94.7                   0.0   \n",
       "3           29200.0     28.9       0.0            91.7                   0.0   \n",
       "4           72700.0     50.4       1.0           100.0                   0.0   \n",
       "\n",
       "   tax_liens  total_il_high_credit_limit disbursement_method  target  desc  \n",
       "0        0.0                    101984.0                Cash       0     1  \n",
       "1        0.0                    167965.0                Cash       0     1  \n",
       "2        0.0                     74833.0                Cash       0     1  \n",
       "3        0.0                     24595.0                Cash       0     1  \n",
       "4        0.0                         0.0                Cash       0     1  "
      ]
     },
     "execution_count": 21,
     "metadata": {},
     "output_type": "execute_result"
    }
   ],
   "source": [
    "cleandf.head()"
   ]
  },
  {
   "cell_type": "markdown",
   "metadata": {},
   "source": [
    "## 4.3 Generation of dummies"
   ]
  },
  {
   "cell_type": "code",
   "execution_count": 22,
   "metadata": {},
   "outputs": [
    {
     "data": {
      "text/plain": [
       "(1278712, 26)"
      ]
     },
     "execution_count": 22,
     "metadata": {},
     "output_type": "execute_result"
    }
   ],
   "source": [
    "cleandf.shape"
   ]
  },
  {
   "cell_type": "markdown",
   "metadata": {},
   "source": [
    "These variables are going to be converted to dummies:\n",
    "\n",
    "1. term\n",
    "2. home_ownership\n",
    "3. verification_status\n",
    "4. application_type\n",
    "5. disbursement_method\n"
   ]
  },
  {
   "cell_type": "code",
   "execution_count": 23,
   "metadata": {},
   "outputs": [
    {
     "data": {
      "text/html": [
       "<div>\n",
       "<style scoped>\n",
       "    .dataframe tbody tr th:only-of-type {\n",
       "        vertical-align: middle;\n",
       "    }\n",
       "\n",
       "    .dataframe tbody tr th {\n",
       "        vertical-align: top;\n",
       "    }\n",
       "\n",
       "    .dataframe thead th {\n",
       "        text-align: right;\n",
       "    }\n",
       "</style>\n",
       "<table border=\"1\" class=\"dataframe\">\n",
       "  <thead>\n",
       "    <tr style=\"text-align: right;\">\n",
       "      <th></th>\n",
       "      <th>term_ 36 months</th>\n",
       "      <th>term_ 60 months</th>\n",
       "      <th>home_ownership_Other</th>\n",
       "      <th>home_ownership_Own</th>\n",
       "      <th>home_ownership_Rent</th>\n",
       "      <th>verification_status_Not Verified</th>\n",
       "      <th>verification_status_Source Verified</th>\n",
       "      <th>verification_status_Verified</th>\n",
       "      <th>application_type_Individual</th>\n",
       "      <th>application_type_Joint App</th>\n",
       "      <th>disbursement_method_Cash</th>\n",
       "      <th>disbursement_method_DirectPay</th>\n",
       "    </tr>\n",
       "  </thead>\n",
       "  <tbody>\n",
       "    <tr>\n",
       "      <td>0</td>\n",
       "      <td>1</td>\n",
       "      <td>0</td>\n",
       "      <td>1</td>\n",
       "      <td>0</td>\n",
       "      <td>0</td>\n",
       "      <td>0</td>\n",
       "      <td>1</td>\n",
       "      <td>0</td>\n",
       "      <td>0</td>\n",
       "      <td>1</td>\n",
       "      <td>1</td>\n",
       "      <td>0</td>\n",
       "    </tr>\n",
       "    <tr>\n",
       "      <td>1</td>\n",
       "      <td>0</td>\n",
       "      <td>1</td>\n",
       "      <td>1</td>\n",
       "      <td>0</td>\n",
       "      <td>0</td>\n",
       "      <td>0</td>\n",
       "      <td>0</td>\n",
       "      <td>1</td>\n",
       "      <td>0</td>\n",
       "      <td>1</td>\n",
       "      <td>1</td>\n",
       "      <td>0</td>\n",
       "    </tr>\n",
       "    <tr>\n",
       "      <td>2</td>\n",
       "      <td>1</td>\n",
       "      <td>0</td>\n",
       "      <td>1</td>\n",
       "      <td>0</td>\n",
       "      <td>0</td>\n",
       "      <td>1</td>\n",
       "      <td>0</td>\n",
       "      <td>0</td>\n",
       "      <td>0</td>\n",
       "      <td>1</td>\n",
       "      <td>1</td>\n",
       "      <td>0</td>\n",
       "    </tr>\n",
       "    <tr>\n",
       "      <td>3</td>\n",
       "      <td>1</td>\n",
       "      <td>0</td>\n",
       "      <td>0</td>\n",
       "      <td>0</td>\n",
       "      <td>1</td>\n",
       "      <td>1</td>\n",
       "      <td>0</td>\n",
       "      <td>0</td>\n",
       "      <td>1</td>\n",
       "      <td>0</td>\n",
       "      <td>1</td>\n",
       "      <td>0</td>\n",
       "    </tr>\n",
       "  </tbody>\n",
       "</table>\n",
       "</div>"
      ],
      "text/plain": [
       "   term_ 36 months  term_ 60 months  home_ownership_Other  home_ownership_Own  \\\n",
       "0                1                0                     1                   0   \n",
       "1                0                1                     1                   0   \n",
       "2                1                0                     1                   0   \n",
       "3                1                0                     0                   0   \n",
       "\n",
       "   home_ownership_Rent  verification_status_Not Verified  \\\n",
       "0                    0                                 0   \n",
       "1                    0                                 0   \n",
       "2                    0                                 1   \n",
       "3                    1                                 1   \n",
       "\n",
       "   verification_status_Source Verified  verification_status_Verified  \\\n",
       "0                                    1                             0   \n",
       "1                                    0                             1   \n",
       "2                                    0                             0   \n",
       "3                                    0                             0   \n",
       "\n",
       "   application_type_Individual  application_type_Joint App  \\\n",
       "0                            0                           1   \n",
       "1                            0                           1   \n",
       "2                            0                           1   \n",
       "3                            1                           0   \n",
       "\n",
       "   disbursement_method_Cash  disbursement_method_DirectPay  \n",
       "0                         1                              0  \n",
       "1                         1                              0  \n",
       "2                         1                              0  \n",
       "3                         1                              0  "
      ]
     },
     "execution_count": 23,
     "metadata": {},
     "output_type": "execute_result"
    }
   ],
   "source": [
    "dummies1 = pd.get_dummies(cleandf.loc[:,['term',\n",
    "                                         'home_ownership',\n",
    "                                         'verification_status',\n",
    "                                         'application_type',\n",
    "                                         'disbursement_method']])\n",
    "dummies1.head(4)"
   ]
  },
  {
   "cell_type": "code",
   "execution_count": 24,
   "metadata": {},
   "outputs": [
    {
     "data": {
      "text/plain": [
       "(1278712, 12)"
      ]
     },
     "execution_count": 24,
     "metadata": {},
     "output_type": "execute_result"
    }
   ],
   "source": [
    "dummies1.shape"
   ]
  },
  {
   "cell_type": "markdown",
   "metadata": {},
   "source": [
    "## 4.4 Feature Scaling"
   ]
  },
  {
   "cell_type": "code",
   "execution_count": 25,
   "metadata": {},
   "outputs": [],
   "source": [
    "cleandf= cleandf.drop(['term',\n",
    "                       'home_ownership',\n",
    "                       'verification_status',\n",
    "                       'application_type',\n",
    "                       'disbursement_method',], axis= 1)"
   ]
  },
  {
   "cell_type": "code",
   "execution_count": 26,
   "metadata": {},
   "outputs": [],
   "source": [
    "scale_column =['loan_amnt',\n",
    " 'int_rate',\n",
    " 'sub_grade',\n",
    " 'emp_length',\n",
    " 'annual_inc',\n",
    " 'purpose',\n",
    " 'addr_state',\n",
    " 'dti',\n",
    " 'earliest_cr_line',\n",
    " 'inq_last_6mths',\n",
    " 'tot_cur_bal',\n",
    " 'total_rev_hi_lim',\n",
    " 'bc_util',\n",
    " 'mort_acc',\n",
    " 'pct_tl_nvr_dlq',\n",
    " 'pub_rec_bankruptcies',\n",
    " 'tax_liens',\n",
    " 'total_il_high_credit_limit']"
   ]
  },
  {
   "cell_type": "code",
   "execution_count": 27,
   "metadata": {},
   "outputs": [],
   "source": [
    "scaler = MinMaxScaler()\n",
    "cleandf[scale_column] = scaler.fit_transform(cleandf[scale_column])"
   ]
  },
  {
   "cell_type": "code",
   "execution_count": 28,
   "metadata": {},
   "outputs": [
    {
     "data": {
      "text/html": [
       "<div>\n",
       "<style scoped>\n",
       "    .dataframe tbody tr th:only-of-type {\n",
       "        vertical-align: middle;\n",
       "    }\n",
       "\n",
       "    .dataframe tbody tr th {\n",
       "        vertical-align: top;\n",
       "    }\n",
       "\n",
       "    .dataframe thead th {\n",
       "        text-align: right;\n",
       "    }\n",
       "</style>\n",
       "<table border=\"1\" class=\"dataframe\">\n",
       "  <thead>\n",
       "    <tr style=\"text-align: right;\">\n",
       "      <th></th>\n",
       "      <th>term_ 36 months</th>\n",
       "      <th>term_ 60 months</th>\n",
       "      <th>home_ownership_Other</th>\n",
       "      <th>home_ownership_Own</th>\n",
       "      <th>home_ownership_Rent</th>\n",
       "      <th>verification_status_Not Verified</th>\n",
       "      <th>verification_status_Source Verified</th>\n",
       "      <th>verification_status_Verified</th>\n",
       "      <th>application_type_Individual</th>\n",
       "      <th>application_type_Joint App</th>\n",
       "      <th>disbursement_method_Cash</th>\n",
       "      <th>disbursement_method_DirectPay</th>\n",
       "      <th>loan_amnt</th>\n",
       "      <th>int_rate</th>\n",
       "      <th>sub_grade</th>\n",
       "      <th>emp_title</th>\n",
       "      <th>emp_length</th>\n",
       "      <th>annual_inc</th>\n",
       "      <th>purpose</th>\n",
       "      <th>addr_state</th>\n",
       "      <th>dti</th>\n",
       "      <th>earliest_cr_line</th>\n",
       "      <th>inq_last_6mths</th>\n",
       "      <th>tot_cur_bal</th>\n",
       "      <th>total_rev_hi_lim</th>\n",
       "      <th>bc_util</th>\n",
       "      <th>mort_acc</th>\n",
       "      <th>pct_tl_nvr_dlq</th>\n",
       "      <th>pub_rec_bankruptcies</th>\n",
       "      <th>tax_liens</th>\n",
       "      <th>total_il_high_credit_limit</th>\n",
       "      <th>target</th>\n",
       "      <th>desc</th>\n",
       "    </tr>\n",
       "  </thead>\n",
       "  <tbody>\n",
       "    <tr>\n",
       "      <td>0</td>\n",
       "      <td>1</td>\n",
       "      <td>0</td>\n",
       "      <td>1</td>\n",
       "      <td>0</td>\n",
       "      <td>0</td>\n",
       "      <td>0</td>\n",
       "      <td>1</td>\n",
       "      <td>0</td>\n",
       "      <td>0</td>\n",
       "      <td>1</td>\n",
       "      <td>1</td>\n",
       "      <td>0</td>\n",
       "      <td>0.746835</td>\n",
       "      <td>0.663551</td>\n",
       "      <td>0.558824</td>\n",
       "      <td>0</td>\n",
       "      <td>0.104062</td>\n",
       "      <td>0.010753</td>\n",
       "      <td>0.559260</td>\n",
       "      <td>0.479404</td>\n",
       "      <td>0.03146</td>\n",
       "      <td>0.962963</td>\n",
       "      <td>0.0</td>\n",
       "      <td>0.226832</td>\n",
       "      <td>0.039461</td>\n",
       "      <td>0.138104</td>\n",
       "      <td>0.027027</td>\n",
       "      <td>0.895</td>\n",
       "      <td>0.083333</td>\n",
       "      <td>0.0</td>\n",
       "      <td>0.119063</td>\n",
       "      <td>0</td>\n",
       "      <td>1</td>\n",
       "    </tr>\n",
       "    <tr>\n",
       "      <td>1</td>\n",
       "      <td>0</td>\n",
       "      <td>1</td>\n",
       "      <td>1</td>\n",
       "      <td>0</td>\n",
       "      <td>0</td>\n",
       "      <td>0</td>\n",
       "      <td>0</td>\n",
       "      <td>1</td>\n",
       "      <td>0</td>\n",
       "      <td>1</td>\n",
       "      <td>1</td>\n",
       "      <td>0</td>\n",
       "      <td>1.000000</td>\n",
       "      <td>0.421729</td>\n",
       "      <td>0.382353</td>\n",
       "      <td>0</td>\n",
       "      <td>0.226491</td>\n",
       "      <td>0.004839</td>\n",
       "      <td>0.336189</td>\n",
       "      <td>0.531787</td>\n",
       "      <td>0.05153</td>\n",
       "      <td>0.925926</td>\n",
       "      <td>0.0</td>\n",
       "      <td>0.130178</td>\n",
       "      <td>0.050683</td>\n",
       "      <td>0.198174</td>\n",
       "      <td>0.027027</td>\n",
       "      <td>1.000</td>\n",
       "      <td>0.000000</td>\n",
       "      <td>0.0</td>\n",
       "      <td>0.196094</td>\n",
       "      <td>0</td>\n",
       "      <td>1</td>\n",
       "    </tr>\n",
       "    <tr>\n",
       "      <td>2</td>\n",
       "      <td>1</td>\n",
       "      <td>0</td>\n",
       "      <td>1</td>\n",
       "      <td>0</td>\n",
       "      <td>0</td>\n",
       "      <td>1</td>\n",
       "      <td>0</td>\n",
       "      <td>0</td>\n",
       "      <td>0</td>\n",
       "      <td>1</td>\n",
       "      <td>1</td>\n",
       "      <td>0</td>\n",
       "      <td>0.493671</td>\n",
       "      <td>0.087617</td>\n",
       "      <td>0.058824</td>\n",
       "      <td>0</td>\n",
       "      <td>0.000000</td>\n",
       "      <td>0.010753</td>\n",
       "      <td>0.336189</td>\n",
       "      <td>0.210001</td>\n",
       "      <td>0.01992</td>\n",
       "      <td>0.802469</td>\n",
       "      <td>0.0</td>\n",
       "      <td>0.247698</td>\n",
       "      <td>0.079577</td>\n",
       "      <td>0.088045</td>\n",
       "      <td>0.135135</td>\n",
       "      <td>0.947</td>\n",
       "      <td>0.000000</td>\n",
       "      <td>0.0</td>\n",
       "      <td>0.087365</td>\n",
       "      <td>0</td>\n",
       "      <td>1</td>\n",
       "    </tr>\n",
       "    <tr>\n",
       "      <td>3</td>\n",
       "      <td>1</td>\n",
       "      <td>0</td>\n",
       "      <td>0</td>\n",
       "      <td>0</td>\n",
       "      <td>1</td>\n",
       "      <td>1</td>\n",
       "      <td>0</td>\n",
       "      <td>0</td>\n",
       "      <td>1</td>\n",
       "      <td>0</td>\n",
       "      <td>1</td>\n",
       "      <td>0</td>\n",
       "      <td>0.101266</td>\n",
       "      <td>0.233645</td>\n",
       "      <td>0.205882</td>\n",
       "      <td>0</td>\n",
       "      <td>0.000000</td>\n",
       "      <td>0.004140</td>\n",
       "      <td>0.336189</td>\n",
       "      <td>0.516637</td>\n",
       "      <td>0.00564</td>\n",
       "      <td>0.851852</td>\n",
       "      <td>0.0</td>\n",
       "      <td>0.013993</td>\n",
       "      <td>0.027305</td>\n",
       "      <td>0.085100</td>\n",
       "      <td>0.000000</td>\n",
       "      <td>0.917</td>\n",
       "      <td>0.000000</td>\n",
       "      <td>0.0</td>\n",
       "      <td>0.028714</td>\n",
       "      <td>0</td>\n",
       "      <td>1</td>\n",
       "    </tr>\n",
       "    <tr>\n",
       "      <td>4</td>\n",
       "      <td>0</td>\n",
       "      <td>1</td>\n",
       "      <td>0</td>\n",
       "      <td>0</td>\n",
       "      <td>1</td>\n",
       "      <td>1</td>\n",
       "      <td>0</td>\n",
       "      <td>0</td>\n",
       "      <td>1</td>\n",
       "      <td>0</td>\n",
       "      <td>1</td>\n",
       "      <td>0</td>\n",
       "      <td>0.493671</td>\n",
       "      <td>0.492991</td>\n",
       "      <td>0.441176</td>\n",
       "      <td>0</td>\n",
       "      <td>0.138724</td>\n",
       "      <td>0.006129</td>\n",
       "      <td>0.559260</td>\n",
       "      <td>0.210001</td>\n",
       "      <td>0.02318</td>\n",
       "      <td>0.753086</td>\n",
       "      <td>0.0</td>\n",
       "      <td>0.016019</td>\n",
       "      <td>0.067982</td>\n",
       "      <td>0.148410</td>\n",
       "      <td>0.027027</td>\n",
       "      <td>1.000</td>\n",
       "      <td>0.000000</td>\n",
       "      <td>0.0</td>\n",
       "      <td>0.000000</td>\n",
       "      <td>0</td>\n",
       "      <td>1</td>\n",
       "    </tr>\n",
       "  </tbody>\n",
       "</table>\n",
       "</div>"
      ],
      "text/plain": [
       "   term_ 36 months  term_ 60 months  home_ownership_Other  home_ownership_Own  \\\n",
       "0                1                0                     1                   0   \n",
       "1                0                1                     1                   0   \n",
       "2                1                0                     1                   0   \n",
       "3                1                0                     0                   0   \n",
       "4                0                1                     0                   0   \n",
       "\n",
       "   home_ownership_Rent  verification_status_Not Verified  \\\n",
       "0                    0                                 0   \n",
       "1                    0                                 0   \n",
       "2                    0                                 1   \n",
       "3                    1                                 1   \n",
       "4                    1                                 1   \n",
       "\n",
       "   verification_status_Source Verified  verification_status_Verified  \\\n",
       "0                                    1                             0   \n",
       "1                                    0                             1   \n",
       "2                                    0                             0   \n",
       "3                                    0                             0   \n",
       "4                                    0                             0   \n",
       "\n",
       "   application_type_Individual  application_type_Joint App  \\\n",
       "0                            0                           1   \n",
       "1                            0                           1   \n",
       "2                            0                           1   \n",
       "3                            1                           0   \n",
       "4                            1                           0   \n",
       "\n",
       "   disbursement_method_Cash  disbursement_method_DirectPay  loan_amnt  \\\n",
       "0                         1                              0   0.746835   \n",
       "1                         1                              0   1.000000   \n",
       "2                         1                              0   0.493671   \n",
       "3                         1                              0   0.101266   \n",
       "4                         1                              0   0.493671   \n",
       "\n",
       "   int_rate  sub_grade  emp_title  emp_length  annual_inc   purpose  \\\n",
       "0  0.663551   0.558824          0    0.104062    0.010753  0.559260   \n",
       "1  0.421729   0.382353          0    0.226491    0.004839  0.336189   \n",
       "2  0.087617   0.058824          0    0.000000    0.010753  0.336189   \n",
       "3  0.233645   0.205882          0    0.000000    0.004140  0.336189   \n",
       "4  0.492991   0.441176          0    0.138724    0.006129  0.559260   \n",
       "\n",
       "   addr_state      dti  earliest_cr_line  inq_last_6mths  tot_cur_bal  \\\n",
       "0    0.479404  0.03146          0.962963             0.0     0.226832   \n",
       "1    0.531787  0.05153          0.925926             0.0     0.130178   \n",
       "2    0.210001  0.01992          0.802469             0.0     0.247698   \n",
       "3    0.516637  0.00564          0.851852             0.0     0.013993   \n",
       "4    0.210001  0.02318          0.753086             0.0     0.016019   \n",
       "\n",
       "   total_rev_hi_lim   bc_util  mort_acc  pct_tl_nvr_dlq  pub_rec_bankruptcies  \\\n",
       "0          0.039461  0.138104  0.027027           0.895              0.083333   \n",
       "1          0.050683  0.198174  0.027027           1.000              0.000000   \n",
       "2          0.079577  0.088045  0.135135           0.947              0.000000   \n",
       "3          0.027305  0.085100  0.000000           0.917              0.000000   \n",
       "4          0.067982  0.148410  0.027027           1.000              0.000000   \n",
       "\n",
       "   tax_liens  total_il_high_credit_limit  target  desc  \n",
       "0        0.0                    0.119063       0     1  \n",
       "1        0.0                    0.196094       0     1  \n",
       "2        0.0                    0.087365       0     1  \n",
       "3        0.0                    0.028714       0     1  \n",
       "4        0.0                    0.000000       0     1  "
      ]
     },
     "execution_count": 28,
     "metadata": {},
     "output_type": "execute_result"
    }
   ],
   "source": [
    "cleandf = pd.concat([dummies1, cleandf], axis = 1)\n",
    "cleandf.head()"
   ]
  },
  {
   "cell_type": "code",
   "execution_count": 29,
   "metadata": {
    "scrolled": true
   },
   "outputs": [
    {
     "data": {
      "text/plain": [
       "(1278712, 33)"
      ]
     },
     "execution_count": 29,
     "metadata": {},
     "output_type": "execute_result"
    }
   ],
   "source": [
    "cleandf.shape"
   ]
  },
  {
   "cell_type": "markdown",
   "metadata": {},
   "source": [
    "## 4.5 Relevant Features"
   ]
  },
  {
   "cell_type": "markdown",
   "metadata": {},
   "source": [
    "### 4.5.1 Lasso regression"
   ]
  },
  {
   "cell_type": "markdown",
   "metadata": {},
   "source": [
    "We will use the Laso linear regression model for variable selection. The objective is to obtain the subset of predictors that minimizes the prediction error for a quantitative response variable."
   ]
  },
  {
   "cell_type": "code",
   "execution_count": 30,
   "metadata": {},
   "outputs": [],
   "source": [
    "Y = cleandf.target"
   ]
  },
  {
   "cell_type": "code",
   "execution_count": 31,
   "metadata": {},
   "outputs": [],
   "source": [
    "X = cleandf.drop('target', axis = 1).astype('float64')"
   ]
  },
  {
   "cell_type": "code",
   "execution_count": 32,
   "metadata": {},
   "outputs": [
    {
     "data": {
      "text/plain": [
       "sklearn.linear_model._coordinate_descent.LassoCV"
      ]
     },
     "execution_count": 32,
     "metadata": {},
     "output_type": "execute_result"
    }
   ],
   "source": [
    "LassoCV"
   ]
  },
  {
   "cell_type": "code",
   "execution_count": 33,
   "metadata": {},
   "outputs": [
    {
     "data": {
      "text/plain": [
       "2.98510624597147e-05"
      ]
     },
     "execution_count": 33,
     "metadata": {},
     "output_type": "execute_result"
    }
   ],
   "source": [
    "lassocv = LassoCV(alphas = None, cv = 10, max_iter = 100000, n_jobs=5, random_state=0)\n",
    "lassocv.fit(X, Y)\n",
    "lassocv.alpha_"
   ]
  },
  {
   "cell_type": "code",
   "execution_count": 34,
   "metadata": {},
   "outputs": [],
   "source": [
    "model_lasso = Lasso(alpha=lassocv.alpha_, random_state=0).fit(X, Y)"
   ]
  },
  {
   "cell_type": "code",
   "execution_count": 35,
   "metadata": {},
   "outputs": [],
   "source": [
    "###Model Lasso regression\n",
    "coef = pd.Series(model_lasso.coef_, index = X.columns)"
   ]
  },
  {
   "cell_type": "code",
   "execution_count": 36,
   "metadata": {},
   "outputs": [
    {
     "data": {
      "text/plain": [
       "Text(0.5, 1.0, 'Coefficients in the Lasso Model')"
      ]
     },
     "execution_count": 36,
     "metadata": {},
     "output_type": "execute_result"
    },
    {
     "data": {
      "image/png": "[encoded data removed]",
      "text/plain": [
       "<Figure size 576x720 with 1 Axes>"
      ]
     },
     "metadata": {
      "needs_background": "light"
     },
     "output_type": "display_data"
    }
   ],
   "source": [
    "matplotlib.rcParams['figure.figsize'] = (8.0, 10.0)\n",
    "coef.sort_values().plot(kind = \"barh\")\n",
    "plt.title(\"Coefficients in the Lasso Model\")"
   ]
  },
  {
   "cell_type": "code",
   "execution_count": 37,
   "metadata": {},
   "outputs": [
    {
     "data": {
      "text/plain": [
       "SelectFromModel(estimator=Lasso(alpha=2.98510624597147e-05, copy_X=True,\n",
       "                                fit_intercept=True, max_iter=1000,\n",
       "                                normalize=False, positive=False,\n",
       "                                precompute=False, random_state=0,\n",
       "                                selection='cyclic', tol=0.0001,\n",
       "                                warm_start=False),\n",
       "                max_features=None, norm_order=1, prefit=False, threshold=None)"
      ]
     },
     "execution_count": 37,
     "metadata": {},
     "output_type": "execute_result"
    }
   ],
   "source": [
    "sel_lasso = SelectFromModel(estimator=Lasso(alpha=lassocv.alpha_, random_state=0))\n",
    "sel_lasso.fit(X, Y)"
   ]
  },
  {
   "cell_type": "code",
   "execution_count": 38,
   "metadata": {},
   "outputs": [
    {
     "data": {
      "text/plain": [
       "Index(['term_ 36 months', 'home_ownership_Other', 'home_ownership_Own',\n",
       "       'home_ownership_Rent', 'verification_status_Not Verified',\n",
       "       'verification_status_Source Verified', 'application_type_Individual',\n",
       "       'disbursement_method_Cash', 'loan_amnt', 'int_rate', 'sub_grade',\n",
       "       'emp_title', 'emp_length', 'annual_inc', 'purpose', 'addr_state', 'dti',\n",
       "       'earliest_cr_line', 'inq_last_6mths', 'tot_cur_bal', 'total_rev_hi_lim',\n",
       "       'bc_util', 'mort_acc', 'pct_tl_nvr_dlq', 'pub_rec_bankruptcies',\n",
       "       'total_il_high_credit_limit', 'desc'],\n",
       "      dtype='object')"
      ]
     },
     "execution_count": 38,
     "metadata": {},
     "output_type": "execute_result"
    }
   ],
   "source": [
    "X.columns[sel_lasso.get_support()]"
   ]
  },
  {
   "cell_type": "markdown",
   "metadata": {},
   "source": [
    "### 4.5.2 Random Forest"
   ]
  },
  {
   "cell_type": "code",
   "execution_count": 39,
   "metadata": {
    "scrolled": true
   },
   "outputs": [
    {
     "data": {
      "text/plain": [
       "SelectFromModel(estimator=RandomForestClassifier(bootstrap=True, ccp_alpha=0.0,\n",
       "                                                 class_weight=None,\n",
       "                                                 criterion='gini',\n",
       "                                                 max_depth=None,\n",
       "                                                 max_features='auto',\n",
       "                                                 max_leaf_nodes=None,\n",
       "                                                 max_samples=None,\n",
       "                                                 min_impurity_decrease=0.0,\n",
       "                                                 min_impurity_split=None,\n",
       "                                                 min_samples_leaf=1,\n",
       "                                                 min_samples_split=2,\n",
       "                                                 min_weight_fraction_leaf=0.0,\n",
       "                                                 n_estimators=100, n_jobs=5,\n",
       "                                                 oob_score=False,\n",
       "                                                 random_state=0, verbose=0,\n",
       "                                                 warm_start=False),\n",
       "                max_features=None, norm_order=1, prefit=False, threshold=0.02)"
      ]
     },
     "execution_count": 39,
     "metadata": {},
     "output_type": "execute_result"
    }
   ],
   "source": [
    "random_forest = RandomForestClassifier(n_estimators = 100, n_jobs=5, random_state=0)\n",
    "sel = SelectFromModel(random_forest, threshold=0.02)\n",
    "sel.fit(X, Y)"
   ]
  },
  {
   "cell_type": "code",
   "execution_count": 40,
   "metadata": {},
   "outputs": [
    {
     "data": {
      "text/plain": [
       "Text(0.5, 1.0, 'Feature importance Random forest')"
      ]
     },
     "execution_count": 40,
     "metadata": {},
     "output_type": "execute_result"
    },
    {
     "data": {
      "image/png": "[encoded data removed]",
      "text/plain": [
       "<Figure size 576x720 with 1 Axes>"
      ]
     },
     "metadata": {
      "needs_background": "light"
     },
     "output_type": "display_data"
    }
   ],
   "source": [
    "coef2 = pd.Series(sel.estimator_.feature_importances_, index = X.columns)\n",
    "\n",
    "matplotlib.rcParams['figure.figsize'] = (8.0, 10.0)\n",
    "coef2.sort_values().plot(kind = \"barh\")\n",
    "plt.title(\"Feature importance Random forest\")"
   ]
  },
  {
   "cell_type": "code",
   "execution_count": 41,
   "metadata": {},
   "outputs": [
    {
     "data": {
      "text/plain": [
       "Index(['loan_amnt', 'int_rate', 'sub_grade', 'emp_length', 'annual_inc',\n",
       "       'purpose', 'addr_state', 'dti', 'earliest_cr_line', 'inq_last_6mths',\n",
       "       'tot_cur_bal', 'total_rev_hi_lim', 'bc_util', 'mort_acc',\n",
       "       'pct_tl_nvr_dlq', 'total_il_high_credit_limit'],\n",
       "      dtype='object')"
      ]
     },
     "execution_count": 41,
     "metadata": {},
     "output_type": "execute_result"
    }
   ],
   "source": [
    "X.columns[sel.get_support()]"
   ]
  },
  {
   "cell_type": "code",
   "execution_count": 42,
   "metadata": {},
   "outputs": [],
   "source": [
    "X_forest = X[['loan_amnt', 'int_rate', 'sub_grade', 'emp_length', 'annual_inc',\n",
    "       'purpose', 'addr_state', 'dti', 'earliest_cr_line', 'inq_last_6mths',\n",
    "       'tot_cur_bal', 'total_rev_hi_lim', 'bc_util', 'mort_acc',\n",
    "       'pct_tl_nvr_dlq', 'total_il_high_credit_limit']]"
   ]
  },
  {
   "cell_type": "code",
   "execution_count": 43,
   "metadata": {},
   "outputs": [
    {
     "data": {
      "text/html": [
       "<div>\n",
       "<style scoped>\n",
       "    .dataframe tbody tr th:only-of-type {\n",
       "        vertical-align: middle;\n",
       "    }\n",
       "\n",
       "    .dataframe tbody tr th {\n",
       "        vertical-align: top;\n",
       "    }\n",
       "\n",
       "    .dataframe thead th {\n",
       "        text-align: right;\n",
       "    }\n",
       "</style>\n",
       "<table border=\"1\" class=\"dataframe\">\n",
       "  <thead>\n",
       "    <tr style=\"text-align: right;\">\n",
       "      <th></th>\n",
       "      <th>loan_amnt</th>\n",
       "      <th>int_rate</th>\n",
       "      <th>sub_grade</th>\n",
       "      <th>emp_length</th>\n",
       "      <th>annual_inc</th>\n",
       "      <th>purpose</th>\n",
       "      <th>addr_state</th>\n",
       "      <th>dti</th>\n",
       "      <th>earliest_cr_line</th>\n",
       "      <th>inq_last_6mths</th>\n",
       "      <th>tot_cur_bal</th>\n",
       "      <th>total_rev_hi_lim</th>\n",
       "      <th>bc_util</th>\n",
       "      <th>mort_acc</th>\n",
       "      <th>pct_tl_nvr_dlq</th>\n",
       "      <th>total_il_high_credit_limit</th>\n",
       "    </tr>\n",
       "  </thead>\n",
       "  <tbody>\n",
       "    <tr>\n",
       "      <td>0</td>\n",
       "      <td>0.746835</td>\n",
       "      <td>0.663551</td>\n",
       "      <td>0.558824</td>\n",
       "      <td>0.104062</td>\n",
       "      <td>0.010753</td>\n",
       "      <td>0.559260</td>\n",
       "      <td>0.479404</td>\n",
       "      <td>0.03146</td>\n",
       "      <td>0.962963</td>\n",
       "      <td>0.0</td>\n",
       "      <td>0.226832</td>\n",
       "      <td>0.039461</td>\n",
       "      <td>0.138104</td>\n",
       "      <td>0.027027</td>\n",
       "      <td>0.895</td>\n",
       "      <td>0.119063</td>\n",
       "    </tr>\n",
       "    <tr>\n",
       "      <td>1</td>\n",
       "      <td>1.000000</td>\n",
       "      <td>0.421729</td>\n",
       "      <td>0.382353</td>\n",
       "      <td>0.226491</td>\n",
       "      <td>0.004839</td>\n",
       "      <td>0.336189</td>\n",
       "      <td>0.531787</td>\n",
       "      <td>0.05153</td>\n",
       "      <td>0.925926</td>\n",
       "      <td>0.0</td>\n",
       "      <td>0.130178</td>\n",
       "      <td>0.050683</td>\n",
       "      <td>0.198174</td>\n",
       "      <td>0.027027</td>\n",
       "      <td>1.000</td>\n",
       "      <td>0.196094</td>\n",
       "    </tr>\n",
       "    <tr>\n",
       "      <td>2</td>\n",
       "      <td>0.493671</td>\n",
       "      <td>0.087617</td>\n",
       "      <td>0.058824</td>\n",
       "      <td>0.000000</td>\n",
       "      <td>0.010753</td>\n",
       "      <td>0.336189</td>\n",
       "      <td>0.210001</td>\n",
       "      <td>0.01992</td>\n",
       "      <td>0.802469</td>\n",
       "      <td>0.0</td>\n",
       "      <td>0.247698</td>\n",
       "      <td>0.079577</td>\n",
       "      <td>0.088045</td>\n",
       "      <td>0.135135</td>\n",
       "      <td>0.947</td>\n",
       "      <td>0.087365</td>\n",
       "    </tr>\n",
       "    <tr>\n",
       "      <td>3</td>\n",
       "      <td>0.101266</td>\n",
       "      <td>0.233645</td>\n",
       "      <td>0.205882</td>\n",
       "      <td>0.000000</td>\n",
       "      <td>0.004140</td>\n",
       "      <td>0.336189</td>\n",
       "      <td>0.516637</td>\n",
       "      <td>0.00564</td>\n",
       "      <td>0.851852</td>\n",
       "      <td>0.0</td>\n",
       "      <td>0.013993</td>\n",
       "      <td>0.027305</td>\n",
       "      <td>0.085100</td>\n",
       "      <td>0.000000</td>\n",
       "      <td>0.917</td>\n",
       "      <td>0.028714</td>\n",
       "    </tr>\n",
       "    <tr>\n",
       "      <td>4</td>\n",
       "      <td>0.493671</td>\n",
       "      <td>0.492991</td>\n",
       "      <td>0.441176</td>\n",
       "      <td>0.138724</td>\n",
       "      <td>0.006129</td>\n",
       "      <td>0.559260</td>\n",
       "      <td>0.210001</td>\n",
       "      <td>0.02318</td>\n",
       "      <td>0.753086</td>\n",
       "      <td>0.0</td>\n",
       "      <td>0.016019</td>\n",
       "      <td>0.067982</td>\n",
       "      <td>0.148410</td>\n",
       "      <td>0.027027</td>\n",
       "      <td>1.000</td>\n",
       "      <td>0.000000</td>\n",
       "    </tr>\n",
       "  </tbody>\n",
       "</table>\n",
       "</div>"
      ],
      "text/plain": [
       "   loan_amnt  int_rate  sub_grade  emp_length  annual_inc   purpose  \\\n",
       "0   0.746835  0.663551   0.558824    0.104062    0.010753  0.559260   \n",
       "1   1.000000  0.421729   0.382353    0.226491    0.004839  0.336189   \n",
       "2   0.493671  0.087617   0.058824    0.000000    0.010753  0.336189   \n",
       "3   0.101266  0.233645   0.205882    0.000000    0.004140  0.336189   \n",
       "4   0.493671  0.492991   0.441176    0.138724    0.006129  0.559260   \n",
       "\n",
       "   addr_state      dti  earliest_cr_line  inq_last_6mths  tot_cur_bal  \\\n",
       "0    0.479404  0.03146          0.962963             0.0     0.226832   \n",
       "1    0.531787  0.05153          0.925926             0.0     0.130178   \n",
       "2    0.210001  0.01992          0.802469             0.0     0.247698   \n",
       "3    0.516637  0.00564          0.851852             0.0     0.013993   \n",
       "4    0.210001  0.02318          0.753086             0.0     0.016019   \n",
       "\n",
       "   total_rev_hi_lim   bc_util  mort_acc  pct_tl_nvr_dlq  \\\n",
       "0          0.039461  0.138104  0.027027           0.895   \n",
       "1          0.050683  0.198174  0.027027           1.000   \n",
       "2          0.079577  0.088045  0.135135           0.947   \n",
       "3          0.027305  0.085100  0.000000           0.917   \n",
       "4          0.067982  0.148410  0.027027           1.000   \n",
       "\n",
       "   total_il_high_credit_limit  \n",
       "0                    0.119063  \n",
       "1                    0.196094  \n",
       "2                    0.087365  \n",
       "3                    0.028714  \n",
       "4                    0.000000  "
      ]
     },
     "execution_count": 43,
     "metadata": {},
     "output_type": "execute_result"
    }
   ],
   "source": [
    "X_forest.head()"
   ]
  },
  {
   "cell_type": "markdown",
   "metadata": {},
   "source": [
    "## 4.6 Split in train and test"
   ]
  },
  {
   "cell_type": "code",
   "execution_count": 44,
   "metadata": {},
   "outputs": [],
   "source": [
    "X_train, X_test, Y_train, Y_test = train_test_split(X_forest, Y, test_size=0.3, random_state=0)"
   ]
  },
  {
   "cell_type": "code",
   "execution_count": 45,
   "metadata": {},
   "outputs": [
    {
     "name": "stdout",
     "output_type": "stream",
     "text": [
      "(895098, 16)\n",
      "(383614, 16)\n"
     ]
    }
   ],
   "source": [
    "print(X_train.shape); print(X_test.shape)"
   ]
  },
  {
   "cell_type": "code",
   "execution_count": 46,
   "metadata": {},
   "outputs": [],
   "source": [
    "ytrain_df = pd.DataFrame(Y_train, columns = ['target'])\n",
    "ytest_df = pd.DataFrame(Y_test, columns = ['target'])"
   ]
  },
  {
   "cell_type": "code",
   "execution_count": 47,
   "metadata": {},
   "outputs": [
    {
     "data": {
      "text/plain": [
       "0    0.794073\n",
       "1    0.205927\n",
       "Name: target, dtype: float64"
      ]
     },
     "execution_count": 47,
     "metadata": {},
     "output_type": "execute_result"
    }
   ],
   "source": [
    "ytrain_df['target'].value_counts(normalize=True)"
   ]
  },
  {
   "cell_type": "code",
   "execution_count": 48,
   "metadata": {},
   "outputs": [
    {
     "data": {
      "text/plain": [
       "0    0.795114\n",
       "1    0.204886\n",
       "Name: target, dtype: float64"
      ]
     },
     "execution_count": 48,
     "metadata": {},
     "output_type": "execute_result"
    }
   ],
   "source": [
    "ytest_df['target'].value_counts(normalize=True)"
   ]
  },
  {
   "cell_type": "code",
   "execution_count": 49,
   "metadata": {},
   "outputs": [],
   "source": [
    "X_train.to_csv('../data/X_train.csv', index=False)\n",
    "X_test.to_csv('../data/X_test.csv', index=False)\n",
    "np.savetxt(\"../data/Y_train.csv\", Y_train, delimiter=\",\")\n",
    "np.savetxt(\"../data/Y_test.csv\", Y_test, delimiter=\",\")"
   ]
  },
  {
   "cell_type": "code",
   "execution_count": 50,
   "metadata": {},
   "outputs": [
    {
     "name": "stdout",
     "output_type": "stream",
     "text": [
      "(895098, 16)\n",
      "(383614, 16)\n",
      "(895098,)\n",
      "(383614,)\n"
     ]
    }
   ],
   "source": [
    "print(X_train.shape); print(X_test.shape);\n",
    "print(Y_train.shape); print(Y_test.shape)"
   ]
  }
 ],
 "metadata": {
  "kernelspec": {
   "display_name": "Python 3",
   "language": "python",
   "name": "python3"
  },
  "language_info": {
   "codemirror_mode": {
    "name": "ipython",
    "version": 3
   },
   "file_extension": ".py",
   "mimetype": "text/x-python",
   "name": "python",
   "nbconvert_exporter": "python",
   "pygments_lexer": "ipython3",
   "version": "3.7.6"
  }
 },
 "nbformat": 4,
 "nbformat_minor": 2
}
