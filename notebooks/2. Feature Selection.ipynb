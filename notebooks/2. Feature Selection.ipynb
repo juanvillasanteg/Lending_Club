{
 "cells": [
  {
   "cell_type": "markdown",
   "metadata": {},
   "source": [
    "## 2. Feature selection"
   ]
  },
  {
   "cell_type": "code",
   "execution_count": 1,
   "metadata": {},
   "outputs": [],
   "source": [
    "import pandas as pd\n",
    "import numpy as np\n",
    "import matplotlib.pyplot as plt\n",
    "import seaborn as sns"
   ]
  },
  {
   "cell_type": "code",
   "execution_count": 2,
   "metadata": {},
   "outputs": [],
   "source": [
    "df = pd.read_csv('../data/loan_target.csv', low_memory=False)"
   ]
  },
  {
   "cell_type": "markdown",
   "metadata": {},
   "source": [
    "In this section, we will discard fetaures that don't add value to our prediction model using different methods. A fundamental aspect of data analysis work is knowing the environment or business  which the data belongs. Another important aspect is to verify the number of missing values that contain the features and make decisions to select the elimination of the features with respect to the volume of Na values that they contain. Finally, a correlation analysis is performed to verify the relationships between the features and deduce which ones represent other features, maintaining most of the information and eliminating a considerable number of records."
   ]
  },
  {
   "cell_type": "markdown",
   "metadata": {},
   "source": [
    "### 2.1. Financial knowledge"
   ]
  },
  {
   "cell_type": "markdown",
   "metadata": {},
   "source": [
    "Based in our financial knowledge we select a list of features that we think they aren't relevant or leak information from the future, information that the bank didn't have when the loan had been granted. It is necessary to delete them, because if we include them in our model, we may be at risk of introducing noise into the model."
   ]
  },
  {
   "cell_type": "code",
   "execution_count": 3,
   "metadata": {},
   "outputs": [],
   "source": [
    "drop = ['acc_open_past_24mths',\n",
    "        'policy_code',\n",
    "        'chargeoff_within_12_mths',\n",
    "        'collections_12_mths_ex_med',\n",
    "        'delinq_2yrs',\n",
    "        'delinq_amnt',\n",
    "        'issue_d',\n",
    "        'initial_list_status',\n",
    "        'il_util',\n",
    "        'member_id',\n",
    "        'mo_sin_old_il_acct',\n",
    "        'mo_sin_old_rev_tl_op',\n",
    "        'mo_sin_rcnt_rev_tl_op',\n",
    "        'mo_sin_rcnt_tl',\n",
    "        'mths_since_last_delinq',\n",
    "        'mths_since_last_major_derog',\n",
    "        'mths_since_last_record',\n",
    "        'mths_since_rcnt_il',\n",
    "        'mths_since_recent_bc',\n",
    "        'mths_since_recent_bc_dlq',\n",
    "        'mths_since_recent_inq',\n",
    "        'mths_since_recent_revol_delinq',\n",
    "        'next_pymnt_d',\n",
    "        'num_accts_ever_120_pd',\n",
    "        'num_actv_bc_tl',\n",
    "        'num_actv_rev_tl',\n",
    "        'num_bc_sats',\n",
    "        'num_bc_tl',\n",
    "        'num_il_tl',\n",
    "        'num_op_rev_tl',\n",
    "        'num_rev_accts',\n",
    "        'num_rev_tl_bal_gt_0',\n",
    "        'num_sats',\n",
    "        'num_tl_120dpd_2m',\n",
    "        'num_tl_30dpd',\n",
    "        'num_tl_90g_dpd_24m',\n",
    "        'num_tl_op_past_12m',\n",
    "        'open_acc_6m',\n",
    "        'open_il_12m',\n",
    "        'open_il_24m',\n",
    "        'open_act_il',\n",
    "        'open_rv_12m',\n",
    "        'open_rv_24m',\n",
    "        'revol_bal',\n",
    "        'revol_bal_joint',\n",
    "        'revol_util',\n",
    "        'total_bal_ex_mort',\n",
    "        'zip_code',\n",
    "        'funded_amnt',\n",
    "        'funded_amnt_inv',\n",
    "        'hardship_flag']"
   ]
  },
  {
   "cell_type": "code",
   "execution_count": 4,
   "metadata": {},
   "outputs": [],
   "source": [
    "cleandf = df.drop(drop, axis=1)"
   ]
  },
  {
   "cell_type": "markdown",
   "metadata": {},
   "source": [
    "### 2.2. NAs values"
   ]
  },
  {
   "cell_type": "markdown",
   "metadata": {},
   "source": [
    "We would like to select the largest number of variables to keep most of the information and thus build a better prediction model. After analyzing the percentage on NAs values, we have decided to delete the variables with a percentage over 50% `desc`,`inq_last_12m` and `inq_fi` becouse we think they have relevant information although all the missing data they have."
   ]
  },
  {
   "cell_type": "code",
   "execution_count": 5,
   "metadata": {},
   "outputs": [],
   "source": [
    "nulls2 = pd.DataFrame(round(cleandf.isnull().sum()/len(cleandf.index)*100,2),columns=['null_percent'])"
   ]
  },
  {
   "cell_type": "code",
   "execution_count": 6,
   "metadata": {},
   "outputs": [],
   "source": [
    "filtro = nulls2['null_percent']>50\n",
    "empty = nulls2[filtro]"
   ]
  },
  {
   "cell_type": "code",
   "execution_count": 7,
   "metadata": {},
   "outputs": [],
   "source": [
    "cleandf = cleandf.drop(list(empty.index), axis=1)"
   ]
  },
  {
   "cell_type": "markdown",
   "metadata": {},
   "source": [
    "We check the dimension of the dataset"
   ]
  },
  {
   "cell_type": "code",
   "execution_count": 8,
   "metadata": {},
   "outputs": [
    {
     "data": {
      "text/plain": [
       "52"
      ]
     },
     "execution_count": 8,
     "metadata": {},
     "output_type": "execute_result"
    }
   ],
   "source": [
    "len(cleandf.columns)"
   ]
  },
  {
   "cell_type": "code",
   "execution_count": 9,
   "metadata": {},
   "outputs": [],
   "source": [
    "cleandf = cleandf.join(df.loc[:,['desc','inq_last_12m','inq_fi']])"
   ]
  },
  {
   "cell_type": "markdown",
   "metadata": {},
   "source": [
    "In the section of treatment of variables we will treat the NaN values by different procedures."
   ]
  },
  {
   "cell_type": "markdown",
   "metadata": {},
   "source": [
    "### 2.3. Correlation analysis"
   ]
  },
  {
   "cell_type": "markdown",
   "metadata": {},
   "source": [
    "We will select the numerical variables and we will make an analysis of the correlations. Later we will eliminate the variables with a high degree of correlation."
   ]
  },
  {
   "cell_type": "code",
   "execution_count": 10,
   "metadata": {},
   "outputs": [
    {
     "data": {
      "text/plain": [
       "loan_amnt                       int64\n",
       "term                           object\n",
       "int_rate                      float64\n",
       "installment                   float64\n",
       "grade                          object\n",
       "sub_grade                      object\n",
       "emp_title                      object\n",
       "emp_length                     object\n",
       "home_ownership                 object\n",
       "annual_inc                    float64\n",
       "verification_status            object\n",
       "pymnt_plan                     object\n",
       "purpose                        object\n",
       "title                          object\n",
       "addr_state                     object\n",
       "dti                           float64\n",
       "earliest_cr_line               object\n",
       "inq_last_6mths                float64\n",
       "open_acc                      float64\n",
       "pub_rec                       float64\n",
       "total_acc                     float64\n",
       "out_prncp                     float64\n",
       "out_prncp_inv                 float64\n",
       "total_pymnt                   float64\n",
       "total_pymnt_inv               float64\n",
       "total_rec_prncp               float64\n",
       "total_rec_int                 float64\n",
       "total_rec_late_fee            float64\n",
       "recoveries                    float64\n",
       "collection_recovery_fee       float64\n",
       "last_pymnt_d                   object\n",
       "last_pymnt_amnt               float64\n",
       "last_credit_pull_d             object\n",
       "application_type               object\n",
       "acc_now_delinq                float64\n",
       "tot_coll_amt                  float64\n",
       "tot_cur_bal                   float64\n",
       "total_rev_hi_lim              float64\n",
       "avg_cur_bal                   float64\n",
       "bc_open_to_buy                float64\n",
       "bc_util                       float64\n",
       "mort_acc                      float64\n",
       "pct_tl_nvr_dlq                float64\n",
       "percent_bc_gt_75              float64\n",
       "pub_rec_bankruptcies          float64\n",
       "tax_liens                     float64\n",
       "tot_hi_cred_lim               float64\n",
       "total_bc_limit                float64\n",
       "total_il_high_credit_limit    float64\n",
       "disbursement_method            object\n",
       "debt_settlement_flag           object\n",
       "target                          int64\n",
       "desc                           object\n",
       "inq_last_12m                  float64\n",
       "inq_fi                        float64\n",
       "dtype: object"
      ]
     },
     "execution_count": 10,
     "metadata": {},
     "output_type": "execute_result"
    }
   ],
   "source": [
    "cleandf.dtypes"
   ]
  },
  {
   "cell_type": "code",
   "execution_count": 11,
   "metadata": {},
   "outputs": [],
   "source": [
    "numeric = cleandf.select_dtypes(include = [np.number])"
   ]
  },
  {
   "cell_type": "code",
   "execution_count": 12,
   "metadata": {},
   "outputs": [
    {
     "name": "stderr",
     "output_type": "stream",
     "text": [
      "C:\\ProgramData\\Anaconda3\\lib\\site-packages\\pandas\\core\\frame.py:4102: SettingWithCopyWarning: \n",
      "A value is trying to be set on a copy of a slice from a DataFrame\n",
      "\n",
      "See the caveats in the documentation: http://pandas.pydata.org/pandas-docs/stable/user_guide/indexing.html#returning-a-view-versus-a-copy\n",
      "  errors=errors,\n"
     ]
    }
   ],
   "source": [
    "numeric.drop('target', axis=1, inplace=True)"
   ]
  },
  {
   "cell_type": "code",
   "execution_count": 13,
   "metadata": {
    "scrolled": true
   },
   "outputs": [],
   "source": [
    "corr = numeric[numeric.columns[:]].corr()"
   ]
  },
  {
   "cell_type": "code",
   "execution_count": 14,
   "metadata": {},
   "outputs": [
    {
     "data": {
      "image/png": "[encoded data removed]",
      "text/plain": [
       "<Figure size 1080x720 with 2 Axes>"
      ]
     },
     "metadata": {
      "needs_background": "light"
     },
     "output_type": "display_data"
    }
   ],
   "source": [
    "plt.subplots(figsize=(15,10))\n",
    "mask = np.zeros_like(corr, dtype=np.bool)\n",
    "mask[np.triu_indices_from(mask)] = True\n",
    "cor_plot = sns.heatmap(corr, cmap='RdBu_r', mask=mask, linewidths=.2)\n",
    "bottom, top = cor_plot.get_ylim()\n",
    "cor_plot.set_ylim(bottom + 0.5, top - 0.5)\n",
    "cor_plot.set_xticklabels(cor_plot.get_xticklabels(), rotation=40, ha=\"right\")\n",
    "plt.savefig(\"../images/correlations.jpg\", bbox_inches=\"tight\");"
   ]
  },
  {
   "cell_type": "markdown",
   "metadata": {},
   "source": [
    "We also drop `grade` and `title` features as such data is also carried in `sub_grade` and `purpose`"
   ]
  },
  {
   "cell_type": "code",
   "execution_count": 15,
   "metadata": {},
   "outputs": [],
   "source": [
    "drop3 = ['bc_open_to_buy',\n",
    "         'total_bc_limit',\n",
    "         'avg_cur_bal',\n",
    "         'percent_bc_gt_75',\n",
    "         'pub_rec',\n",
    "         'grade',\n",
    "         'title',\n",
    "         'last_pymnt_d',\n",
    "         'last_credit_pull_d',\n",
    "         'debt_settlement_flag',\n",
    "         'last_pymnt_amnt',\n",
    "         'inq_last_12m',\n",
    "         'pymnt_plan',\n",
    "         'out_prncp',\n",
    "         'out_prncp_inv',\n",
    "         'total_rec_int',\n",
    "         'total_rec_late_fee',\n",
    "         'recoveries',\n",
    "         'collection_recovery_fee',\n",
    "         'acc_now_delinq',\n",
    "         'tot_coll_amt',\n",
    "         'installment',\n",
    "         'total_pymnt',\n",
    "         'total_pymnt_inv',\n",
    "         'total_rec_prncp',\n",
    "         'total_acc',\n",
    "         'open_acc',\n",
    "         'inq_fi',\n",
    "         'tot_hi_cred_lim']"
   ]
  },
  {
   "cell_type": "code",
   "execution_count": 16,
   "metadata": {},
   "outputs": [],
   "source": [
    "cleandf = cleandf.drop(drop3, axis=1)"
   ]
  },
  {
   "cell_type": "code",
   "execution_count": 17,
   "metadata": {},
   "outputs": [
    {
     "data": {
      "text/html": [
       "<div>\n",
       "<style scoped>\n",
       "    .dataframe tbody tr th:only-of-type {\n",
       "        vertical-align: middle;\n",
       "    }\n",
       "\n",
       "    .dataframe tbody tr th {\n",
       "        vertical-align: top;\n",
       "    }\n",
       "\n",
       "    .dataframe thead th {\n",
       "        text-align: right;\n",
       "    }\n",
       "</style>\n",
       "<table border=\"1\" class=\"dataframe\">\n",
       "  <thead>\n",
       "    <tr style=\"text-align: right;\">\n",
       "      <th></th>\n",
       "      <th>loan_amnt</th>\n",
       "      <th>term</th>\n",
       "      <th>int_rate</th>\n",
       "      <th>sub_grade</th>\n",
       "      <th>emp_title</th>\n",
       "      <th>emp_length</th>\n",
       "      <th>home_ownership</th>\n",
       "      <th>annual_inc</th>\n",
       "      <th>verification_status</th>\n",
       "      <th>purpose</th>\n",
       "      <th>...</th>\n",
       "      <th>total_rev_hi_lim</th>\n",
       "      <th>bc_util</th>\n",
       "      <th>mort_acc</th>\n",
       "      <th>pct_tl_nvr_dlq</th>\n",
       "      <th>pub_rec_bankruptcies</th>\n",
       "      <th>tax_liens</th>\n",
       "      <th>total_il_high_credit_limit</th>\n",
       "      <th>disbursement_method</th>\n",
       "      <th>target</th>\n",
       "      <th>desc</th>\n",
       "    </tr>\n",
       "  </thead>\n",
       "  <tbody>\n",
       "    <tr>\n",
       "      <td>0</td>\n",
       "      <td>30000</td>\n",
       "      <td>36 months</td>\n",
       "      <td>22.35</td>\n",
       "      <td>D5</td>\n",
       "      <td>Supervisor</td>\n",
       "      <td>5 years</td>\n",
       "      <td>MORTGAGE</td>\n",
       "      <td>100000.0</td>\n",
       "      <td>Source Verified</td>\n",
       "      <td>debt_consolidation</td>\n",
       "      <td>...</td>\n",
       "      <td>42200.0</td>\n",
       "      <td>46.9</td>\n",
       "      <td>1.0</td>\n",
       "      <td>89.5</td>\n",
       "      <td>1.0</td>\n",
       "      <td>0.0</td>\n",
       "      <td>101984.0</td>\n",
       "      <td>Cash</td>\n",
       "      <td>0</td>\n",
       "      <td>NaN</td>\n",
       "    </tr>\n",
       "    <tr>\n",
       "      <td>1</td>\n",
       "      <td>40000</td>\n",
       "      <td>60 months</td>\n",
       "      <td>16.14</td>\n",
       "      <td>C4</td>\n",
       "      <td>Assistant to the Treasurer (Payroll)</td>\n",
       "      <td>&lt; 1 year</td>\n",
       "      <td>MORTGAGE</td>\n",
       "      <td>45000.0</td>\n",
       "      <td>Verified</td>\n",
       "      <td>credit_card</td>\n",
       "      <td>...</td>\n",
       "      <td>54200.0</td>\n",
       "      <td>67.3</td>\n",
       "      <td>1.0</td>\n",
       "      <td>100.0</td>\n",
       "      <td>0.0</td>\n",
       "      <td>0.0</td>\n",
       "      <td>167965.0</td>\n",
       "      <td>Cash</td>\n",
       "      <td>0</td>\n",
       "      <td>NaN</td>\n",
       "    </tr>\n",
       "    <tr>\n",
       "      <td>2</td>\n",
       "      <td>20000</td>\n",
       "      <td>36 months</td>\n",
       "      <td>7.56</td>\n",
       "      <td>A3</td>\n",
       "      <td>Teacher</td>\n",
       "      <td>10+ years</td>\n",
       "      <td>MORTGAGE</td>\n",
       "      <td>100000.0</td>\n",
       "      <td>Not Verified</td>\n",
       "      <td>credit_card</td>\n",
       "      <td>...</td>\n",
       "      <td>85100.0</td>\n",
       "      <td>29.9</td>\n",
       "      <td>5.0</td>\n",
       "      <td>94.7</td>\n",
       "      <td>0.0</td>\n",
       "      <td>0.0</td>\n",
       "      <td>74833.0</td>\n",
       "      <td>Cash</td>\n",
       "      <td>0</td>\n",
       "      <td>NaN</td>\n",
       "    </tr>\n",
       "    <tr>\n",
       "      <td>3</td>\n",
       "      <td>4500</td>\n",
       "      <td>36 months</td>\n",
       "      <td>11.31</td>\n",
       "      <td>B3</td>\n",
       "      <td>Accounts Examiner III</td>\n",
       "      <td>10+ years</td>\n",
       "      <td>RENT</td>\n",
       "      <td>38500.0</td>\n",
       "      <td>Not Verified</td>\n",
       "      <td>credit_card</td>\n",
       "      <td>...</td>\n",
       "      <td>29200.0</td>\n",
       "      <td>28.9</td>\n",
       "      <td>0.0</td>\n",
       "      <td>91.7</td>\n",
       "      <td>0.0</td>\n",
       "      <td>0.0</td>\n",
       "      <td>24595.0</td>\n",
       "      <td>Cash</td>\n",
       "      <td>0</td>\n",
       "      <td>NaN</td>\n",
       "    </tr>\n",
       "    <tr>\n",
       "      <td>4</td>\n",
       "      <td>8425</td>\n",
       "      <td>36 months</td>\n",
       "      <td>27.27</td>\n",
       "      <td>E5</td>\n",
       "      <td>Senior Director Risk Management</td>\n",
       "      <td>3 years</td>\n",
       "      <td>MORTGAGE</td>\n",
       "      <td>450000.0</td>\n",
       "      <td>Verified</td>\n",
       "      <td>credit_card</td>\n",
       "      <td>...</td>\n",
       "      <td>56000.0</td>\n",
       "      <td>74.6</td>\n",
       "      <td>4.0</td>\n",
       "      <td>100.0</td>\n",
       "      <td>0.0</td>\n",
       "      <td>0.0</td>\n",
       "      <td>189054.0</td>\n",
       "      <td>Cash</td>\n",
       "      <td>0</td>\n",
       "      <td>NaN</td>\n",
       "    </tr>\n",
       "  </tbody>\n",
       "</table>\n",
       "<p>5 rows × 26 columns</p>\n",
       "</div>"
      ],
      "text/plain": [
       "   loan_amnt        term  int_rate sub_grade  \\\n",
       "0      30000   36 months     22.35        D5   \n",
       "1      40000   60 months     16.14        C4   \n",
       "2      20000   36 months      7.56        A3   \n",
       "3       4500   36 months     11.31        B3   \n",
       "4       8425   36 months     27.27        E5   \n",
       "\n",
       "                              emp_title emp_length home_ownership  annual_inc  \\\n",
       "0                           Supervisor     5 years       MORTGAGE    100000.0   \n",
       "1  Assistant to the Treasurer (Payroll)   < 1 year       MORTGAGE     45000.0   \n",
       "2                               Teacher  10+ years       MORTGAGE    100000.0   \n",
       "3                 Accounts Examiner III  10+ years           RENT     38500.0   \n",
       "4       Senior Director Risk Management    3 years       MORTGAGE    450000.0   \n",
       "\n",
       "  verification_status             purpose  ... total_rev_hi_lim  bc_util  \\\n",
       "0     Source Verified  debt_consolidation  ...          42200.0     46.9   \n",
       "1            Verified         credit_card  ...          54200.0     67.3   \n",
       "2        Not Verified         credit_card  ...          85100.0     29.9   \n",
       "3        Not Verified         credit_card  ...          29200.0     28.9   \n",
       "4            Verified         credit_card  ...          56000.0     74.6   \n",
       "\n",
       "  mort_acc  pct_tl_nvr_dlq pub_rec_bankruptcies  tax_liens  \\\n",
       "0      1.0            89.5                  1.0        0.0   \n",
       "1      1.0           100.0                  0.0        0.0   \n",
       "2      5.0            94.7                  0.0        0.0   \n",
       "3      0.0            91.7                  0.0        0.0   \n",
       "4      4.0           100.0                  0.0        0.0   \n",
       "\n",
       "   total_il_high_credit_limit  disbursement_method  target  desc  \n",
       "0                    101984.0                 Cash       0   NaN  \n",
       "1                    167965.0                 Cash       0   NaN  \n",
       "2                     74833.0                 Cash       0   NaN  \n",
       "3                     24595.0                 Cash       0   NaN  \n",
       "4                    189054.0                 Cash       0   NaN  \n",
       "\n",
       "[5 rows x 26 columns]"
      ]
     },
     "execution_count": 17,
     "metadata": {},
     "output_type": "execute_result"
    }
   ],
   "source": [
    "cleandf.head()"
   ]
  },
  {
   "cell_type": "code",
   "execution_count": 18,
   "metadata": {},
   "outputs": [],
   "source": [
    "# save to local disk\n",
    "cleandf.to_csv('../data/loan_selected.csv', index=False)"
   ]
  }
 ],
 "metadata": {
  "kernelspec": {
   "display_name": "Python 3",
   "language": "python",
   "name": "python3"
  },
  "language_info": {
   "codemirror_mode": {
    "name": "ipython",
    "version": 3
   },
   "file_extension": ".py",
   "mimetype": "text/x-python",
   "name": "python",
   "nbconvert_exporter": "python",
   "pygments_lexer": "ipython3",
   "version": "3.7.4"
  }
 },
 "nbformat": 4,
 "nbformat_minor": 2
}
